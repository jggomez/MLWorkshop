{
  "nbformat": 4,
  "nbformat_minor": 0,
  "metadata": {
    "colab": {
      "name": "Numpy_panda_exercises.ipynb",
      "version": "0.3.2",
      "provenance": [],
      "include_colab_link": true
    },
    "kernelspec": {
      "name": "python3",
      "display_name": "Python 3"
    }
  },
  "cells": [
    {
      "cell_type": "markdown",
      "metadata": {
        "id": "view-in-github",
        "colab_type": "text"
      },
      "source": [
        "<a href=\"https://colab.research.google.com/github/jggomez/MLWorkshop/blob/master/Numpy_panda_exercises.ipynb\" target=\"_parent\"><img src=\"https://colab.research.google.com/assets/colab-badge.svg\" alt=\"Open In Colab\"/></a>"
      ]
    },
    {
      "cell_type": "markdown",
      "metadata": {
        "id": "4oyqyRZ9z_no",
        "colab_type": "text"
      },
      "source": [
        "# **Introduction to Numpy, Pandas & Matplotlib**\n",
        "\n",
        "* https://docs.scipy.org/doc/numpy/reference/ \n",
        "* https://pandas.pydata.org/pandas-docs/stable/reference/ \n",
        "* https://matplotlib.org/3.1.1/api/pyplot_summary.html\n"
      ]
    },
    {
      "cell_type": "markdown",
      "metadata": {
        "id": "Vk8ZFDD60SuP",
        "colab_type": "text"
      },
      "source": [
        "# **Numpy**\n",
        "\n",
        "**1a)** Convert a Python List of numbers to a numpy array\n",
        "\n",
        "**1b)** Create a numpy array with values i=0,1,...99\n",
        "\n",
        "**1c)** Create a matrix of dimension (100,5) with random integer values between 0 and 100\n",
        "\n",
        "**1d)** Multiply the vector from b) with the created matrix from c)\n",
        "\n",
        "**1e)** Calculate the mean value, median value and standard variance of the vector from b)\n",
        "\n",
        "**1f)** Calculate the mean value of each column of the matrix defined in c)\n",
        "\n",
        "**1g)** Calculate the min and max values of a vector \n",
        "\n",
        "**1h)** Create a random vector of dimension 100 with a normal distribution with mean value 10 and std. deviation 3 \n",
        "\n",
        "**1i)** Convert the vector from by to type np.int8 \n",
        "\n",
        "**1j)** Sort the vector from h) \n",
        "\n",
        "**1k)** Create a new vector containing only values bigger than 11 from the vector in h) (Hint: np.where) \n",
        "\n",
        "**1l)** Randomly select a subset of 10 values from of the vector defined in h) (Hint: np.random.choice()) \n",
        "\n",
        "**1m)** Randomly shuffle the rows of the matrix defined in c) (Hint: np.random.shuffle()) \n",
        "\n",
        "**1n)** Concatenate two instances of the matrix defined in c) (Hint: np.concatenate()) "
      ]
    },
    {
      "cell_type": "code",
      "metadata": {
        "id": "D5_tDP0s0wp5",
        "colab_type": "code",
        "colab": {}
      },
      "source": [
        "import numpy as np"
      ],
      "execution_count": 0,
      "outputs": []
    },
    {
      "cell_type": "code",
      "metadata": {
        "id": "2T6p6ezd5LL1",
        "colab_type": "code",
        "colab": {
          "base_uri": "https://localhost:8080/",
          "height": 34
        },
        "outputId": "1b82fd0f-ed93-42c7-9a30-ce03f667bd05"
      },
      "source": [
        "# 1a)\n",
        "a = np.array([1,5,3,6,6,6])\n",
        "a.dtype"
      ],
      "execution_count": 11,
      "outputs": [
        {
          "output_type": "execute_result",
          "data": {
            "text/plain": [
              "dtype('int64')"
            ]
          },
          "metadata": {
            "tags": []
          },
          "execution_count": 11
        }
      ]
    },
    {
      "cell_type": "code",
      "metadata": {
        "id": "qX4vt8o634ty",
        "colab_type": "code",
        "colab": {
          "base_uri": "https://localhost:8080/",
          "height": 119
        },
        "outputId": "0921b9f6-346e-4010-b835-e14dfc684bbb"
      },
      "source": [
        "# 1b)\n",
        "b = np.arange(100)\n",
        "b"
      ],
      "execution_count": 7,
      "outputs": [
        {
          "output_type": "execute_result",
          "data": {
            "text/plain": [
              "array([ 0,  1,  2,  3,  4,  5,  6,  7,  8,  9, 10, 11, 12, 13, 14, 15, 16,\n",
              "       17, 18, 19, 20, 21, 22, 23, 24, 25, 26, 27, 28, 29, 30, 31, 32, 33,\n",
              "       34, 35, 36, 37, 38, 39, 40, 41, 42, 43, 44, 45, 46, 47, 48, 49, 50,\n",
              "       51, 52, 53, 54, 55, 56, 57, 58, 59, 60, 61, 62, 63, 64, 65, 66, 67,\n",
              "       68, 69, 70, 71, 72, 73, 74, 75, 76, 77, 78, 79, 80, 81, 82, 83, 84,\n",
              "       85, 86, 87, 88, 89, 90, 91, 92, 93, 94, 95, 96, 97, 98, 99])"
            ]
          },
          "metadata": {
            "tags": []
          },
          "execution_count": 7
        }
      ]
    },
    {
      "cell_type": "code",
      "metadata": {
        "id": "N8MELY_u4NUw",
        "colab_type": "code",
        "colab": {}
      },
      "source": [
        "# 1c)\n",
        "\n",
        "c = np.random.randint(10, 10000, size=(100,5)) #shape\n"
      ],
      "execution_count": 0,
      "outputs": []
    },
    {
      "cell_type": "code",
      "metadata": {
        "id": "V8fcn65U6SNK",
        "colab_type": "code",
        "colab": {
          "base_uri": "https://localhost:8080/",
          "height": 34
        },
        "outputId": "c51e5d0e-815e-458a-8f58-c490bb818495"
      },
      "source": [
        "# 1d)\n",
        "b*np.matrix(c)"
      ],
      "execution_count": 21,
      "outputs": [
        {
          "output_type": "execute_result",
          "data": {
            "text/plain": [
              "matrix([[26063322, 22602839, 25792690, 25104230, 25357803]])"
            ]
          },
          "metadata": {
            "tags": []
          },
          "execution_count": 21
        }
      ]
    },
    {
      "cell_type": "code",
      "metadata": {
        "id": "2FvlpAK06i9Y",
        "colab_type": "code",
        "colab": {
          "base_uri": "https://localhost:8080/",
          "height": 68
        },
        "outputId": "6fa3b685-16ed-4037-862d-a9892a7807e8"
      },
      "source": [
        "# 1e)\n",
        "mean = b.mean()\n",
        "std = b.std()\n",
        "median = np.median(b)\n",
        "print(mean)\n",
        "print(std)\n",
        "print(median)"
      ],
      "execution_count": 25,
      "outputs": [
        {
          "output_type": "stream",
          "text": [
            "49.5\n",
            "28.86607004772212\n",
            "49.5\n"
          ],
          "name": "stdout"
        }
      ]
    },
    {
      "cell_type": "code",
      "metadata": {
        "id": "UCPD8psD7DAX",
        "colab_type": "code",
        "colab": {
          "base_uri": "https://localhost:8080/",
          "height": 34
        },
        "outputId": "b698f0c4-bae0-4417-bc2d-e5b5b0d99f0f"
      },
      "source": [
        "# 1f)\n",
        "\n",
        "c.mean(axis=0)"
      ],
      "execution_count": 27,
      "outputs": [
        {
          "output_type": "execute_result",
          "data": {
            "text/plain": [
              "array([5310.08, 4666.75, 5153.87, 5014.57, 5256.02])"
            ]
          },
          "metadata": {
            "tags": []
          },
          "execution_count": 27
        }
      ]
    },
    {
      "cell_type": "code",
      "metadata": {
        "id": "oQrkbg9k7Jgh",
        "colab_type": "code",
        "colab": {
          "base_uri": "https://localhost:8080/",
          "height": 51
        },
        "outputId": "8ae13262-2891-47c0-8aa9-2a3f1b34d3e2"
      },
      "source": [
        "# 1g)\n",
        "minimo = b.min()\n",
        "maximo = b.max()\n",
        "print(minimo)\n",
        "print(maximo)"
      ],
      "execution_count": 28,
      "outputs": [
        {
          "output_type": "stream",
          "text": [
            "0\n",
            "99\n"
          ],
          "name": "stdout"
        }
      ]
    },
    {
      "cell_type": "code",
      "metadata": {
        "id": "iW9FQqaF7b2n",
        "colab_type": "code",
        "colab": {}
      },
      "source": [
        "# 1h)\n",
        "\n",
        "h = np.random.normal(10, 3, size=100) #promedio , Desviación estandar, dimensión (vector o matrix)"
      ],
      "execution_count": 0,
      "outputs": []
    },
    {
      "cell_type": "code",
      "metadata": {
        "id": "wmAfiuP37uad",
        "colab_type": "code",
        "colab": {
          "base_uri": "https://localhost:8080/",
          "height": 136
        },
        "outputId": "432964e7-3b27-4226-eca2-a99702569e63"
      },
      "source": [
        "# 1g)\n",
        "h.astype('int8')\n"
      ],
      "execution_count": 44,
      "outputs": [
        {
          "output_type": "execute_result",
          "data": {
            "text/plain": [
              "array([-1,  4,  5,  5,  5,  5,  6,  6,  6,  6,  6,  6,  6,  6,  6,  6,  7,\n",
              "        7,  7,  7,  7,  7,  7,  7,  7,  8,  8,  8,  8,  8,  8,  8,  8,  8,\n",
              "        9,  9,  9,  9,  9,  9,  9,  9,  9,  9,  9,  9,  9,  9,  9,  9,  9,\n",
              "        9, 10, 10, 10, 10, 10, 10, 10, 10, 10, 10, 10, 10, 10, 10, 10, 11,\n",
              "       11, 11, 11, 11, 11, 11, 11, 11, 11, 11, 11, 11, 12, 12, 12, 12, 12,\n",
              "       12, 12, 12, 12, 13, 13, 13, 13, 14, 14, 14, 15, 15, 15, 19],\n",
              "      dtype=int8)"
            ]
          },
          "metadata": {
            "tags": []
          },
          "execution_count": 44
        }
      ]
    },
    {
      "cell_type": "code",
      "metadata": {
        "id": "OTncIBj783oa",
        "colab_type": "code",
        "colab": {
          "base_uri": "https://localhost:8080/",
          "height": 136
        },
        "outputId": "3658dffc-46c9-4fab-d4b7-cdaef4bfb7c1"
      },
      "source": [
        "# 1j)\n",
        "h.sort()\n",
        "h"
      ],
      "execution_count": 43,
      "outputs": [
        {
          "output_type": "execute_result",
          "data": {
            "text/plain": [
              "array([-1,  4,  5,  5,  5,  5,  6,  6,  6,  6,  6,  6,  6,  6,  6,  6,  7,\n",
              "        7,  7,  7,  7,  7,  7,  7,  7,  8,  8,  8,  8,  8,  8,  8,  8,  8,\n",
              "        9,  9,  9,  9,  9,  9,  9,  9,  9,  9,  9,  9,  9,  9,  9,  9,  9,\n",
              "        9, 10, 10, 10, 10, 10, 10, 10, 10, 10, 10, 10, 10, 10, 10, 10, 11,\n",
              "       11, 11, 11, 11, 11, 11, 11, 11, 11, 11, 11, 11, 12, 12, 12, 12, 12,\n",
              "       12, 12, 12, 12, 13, 13, 13, 13, 14, 14, 14, 15, 15, 15, 19],\n",
              "      dtype=int8)"
            ]
          },
          "metadata": {
            "tags": []
          },
          "execution_count": 43
        }
      ]
    },
    {
      "cell_type": "code",
      "metadata": {
        "id": "Wz3vD06o8XrP",
        "colab_type": "code",
        "colab": {
          "base_uri": "https://localhost:8080/",
          "height": 51
        },
        "outputId": "c56a90f7-dc69-49b8-ca27-36a702d2b244"
      },
      "source": [
        "# 1k)\n",
        "h[np.where(h > 11)] # Acceder a los indices por condición"
      ],
      "execution_count": 45,
      "outputs": [
        {
          "output_type": "execute_result",
          "data": {
            "text/plain": [
              "array([12, 12, 12, 12, 12, 12, 12, 12, 12, 13, 13, 13, 13, 14, 14, 14, 15,\n",
              "       15, 15, 19], dtype=int8)"
            ]
          },
          "metadata": {
            "tags": []
          },
          "execution_count": 45
        }
      ]
    },
    {
      "cell_type": "code",
      "metadata": {
        "id": "r2YT8bMF8kSx",
        "colab_type": "code",
        "colab": {
          "base_uri": "https://localhost:8080/",
          "height": 197
        },
        "outputId": "f9c28ee4-6a71-4eac-cd33-a8993b1a1b91"
      },
      "source": [
        "# 1L)\n",
        "np.random.choice(c, 10)\n"
      ],
      "execution_count": 55,
      "outputs": [
        {
          "output_type": "error",
          "ename": "ValueError",
          "evalue": "ignored",
          "traceback": [
            "\u001b[0;31m---------------------------------------------------------------------------\u001b[0m",
            "\u001b[0;31mValueError\u001b[0m                                Traceback (most recent call last)",
            "\u001b[0;32m<ipython-input-55-71e18da95ebc>\u001b[0m in \u001b[0;36m<module>\u001b[0;34m()\u001b[0m\n\u001b[0;32m----> 1\u001b[0;31m \u001b[0mnp\u001b[0m\u001b[0;34m.\u001b[0m\u001b[0mrandom\u001b[0m\u001b[0;34m.\u001b[0m\u001b[0mchoice\u001b[0m\u001b[0;34m(\u001b[0m\u001b[0mc\u001b[0m\u001b[0;34m,\u001b[0m \u001b[0;36m10\u001b[0m\u001b[0;34m)\u001b[0m\u001b[0;34m\u001b[0m\u001b[0;34m\u001b[0m\u001b[0m\n\u001b[0m",
            "\u001b[0;32mmtrand.pyx\u001b[0m in \u001b[0;36mmtrand.RandomState.choice\u001b[0;34m()\u001b[0m\n",
            "\u001b[0;31mValueError\u001b[0m: 'a' must be 1-dimensional"
          ]
        }
      ]
    },
    {
      "cell_type": "code",
      "metadata": {
        "id": "6Rr69xd_9XuG",
        "colab_type": "code",
        "colab": {}
      },
      "source": [
        "# 1M)\n",
        "np.random.shuffle(c)"
      ],
      "execution_count": 0,
      "outputs": []
    },
    {
      "cell_type": "code",
      "metadata": {
        "id": "53BAhddR9ofL",
        "colab_type": "code",
        "colab": {
          "base_uri": "https://localhost:8080/",
          "height": 34
        },
        "outputId": "59cdddde-c8fc-4065-9b89-4c5a589c8d45"
      },
      "source": [
        "# 1n)\n",
        "np.concatenate([c, c], axis=0).shape"
      ],
      "execution_count": 52,
      "outputs": [
        {
          "output_type": "execute_result",
          "data": {
            "text/plain": [
              "(200, 5)"
            ]
          },
          "metadata": {
            "tags": []
          },
          "execution_count": 52
        }
      ]
    },
    {
      "cell_type": "markdown",
      "metadata": {
        "id": "BhBX_Co11T3c",
        "colab_type": "text"
      },
      "source": [
        "# **Pandas**\n",
        "\n",
        "**2a)** Create a pandas DataFrame from the numpy matrix defined in 1c) \n",
        "\n",
        "**2b)** Apply the function DataFrame.describe() to the DataFrame defined in a) \n",
        "\n",
        "**2c)** Now calculate the mean values of each column of the dataframe from a) \n",
        "\n",
        "**2d)** Shuffle the rows of the DataFrame from a) randomly (Hint: df.sample()) \n",
        "\n",
        "**2e)** Look at the index column of the dataframe from d), what happened? </i> \n",
        "\n",
        "**2f)** Take the DataFrame from d) and try to access the first row using .iloc and .loc \n",
        "\n",
        "**2g)** Extract all rows from the DataFrame from a) where the value in the first column is bigger than 20 \n",
        "\n",
        "**2h)** Extract all rows from the DataFrame from a) where the value in the first column is bigger than 40 or smaller than 10 \n",
        "\n",
        "**2i)** Get the number of rows and columns from the DataFrame object defined in d)\n",
        "\n",
        "**2j)** Split the DataFrame from d) into to new dataframes df_train, df_test, where df_train contains 80% of all rows \n",
        "\n",
        "**2k)** Drop one of the columns of the DataFrame defined in a) \n",
        "\n",
        "**2l)** Sort the values of the DataFrame defined in a) by the values in the first column (Hint: df.sort_values())\n",
        "\n",
        "**2m)** Use the matplotlib functions integrated into the DataFrame class (DataFrame.plot) to plot the values of all columns in the DataFrame from a) df.plot() \n",
        "\n",
        "**2n)** Plot the distribution of the values in the first column of the DataFrame from a) using DataFrame.plot.hist() \n",
        "\n",
        "**2o)** Plot the correlation between the first and the second column in the DataFrame from a) using DataFrame.plot.scatter() \n",
        "\n",
        "**2p)** Create boxplot of all columns of the DataFrame from a) using DataFrame.plot.box() "
      ]
    },
    {
      "cell_type": "code",
      "metadata": {
        "id": "UapJoBNK1kOJ",
        "colab_type": "code",
        "colab": {}
      },
      "source": [
        "import pandas as pd\n",
        "import numpy as np"
      ],
      "execution_count": 0,
      "outputs": []
    },
    {
      "cell_type": "code",
      "metadata": {
        "id": "DBjA66Mp-Rvl",
        "colab_type": "code",
        "colab": {}
      },
      "source": [
        "a = pd.DataFrame(np.random.randint(0, 10, size=(100,5)))\n",
        "a"
      ],
      "execution_count": 0,
      "outputs": []
    },
    {
      "cell_type": "code",
      "metadata": {
        "id": "GrYxSY3h-z6R",
        "colab_type": "code",
        "colab": {
          "base_uri": "https://localhost:8080/",
          "height": 297
        },
        "outputId": "9a3df3ca-faf3-4eb2-949f-a85791eb311c"
      },
      "source": [
        "# 2b)\n",
        "\n",
        "a.describe()\n",
        "#a.mean()"
      ],
      "execution_count": 64,
      "outputs": [
        {
          "output_type": "execute_result",
          "data": {
            "text/html": [
              "<div>\n",
              "<style scoped>\n",
              "    .dataframe tbody tr th:only-of-type {\n",
              "        vertical-align: middle;\n",
              "    }\n",
              "\n",
              "    .dataframe tbody tr th {\n",
              "        vertical-align: top;\n",
              "    }\n",
              "\n",
              "    .dataframe thead th {\n",
              "        text-align: right;\n",
              "    }\n",
              "</style>\n",
              "<table border=\"1\" class=\"dataframe\">\n",
              "  <thead>\n",
              "    <tr style=\"text-align: right;\">\n",
              "      <th></th>\n",
              "      <th>0</th>\n",
              "      <th>1</th>\n",
              "      <th>2</th>\n",
              "      <th>3</th>\n",
              "      <th>4</th>\n",
              "    </tr>\n",
              "  </thead>\n",
              "  <tbody>\n",
              "    <tr>\n",
              "      <th>count</th>\n",
              "      <td>100.00000</td>\n",
              "      <td>100.000000</td>\n",
              "      <td>100.000000</td>\n",
              "      <td>100.000000</td>\n",
              "      <td>100.000000</td>\n",
              "    </tr>\n",
              "    <tr>\n",
              "      <th>mean</th>\n",
              "      <td>4.21000</td>\n",
              "      <td>4.860000</td>\n",
              "      <td>5.000000</td>\n",
              "      <td>4.710000</td>\n",
              "      <td>4.820000</td>\n",
              "    </tr>\n",
              "    <tr>\n",
              "      <th>std</th>\n",
              "      <td>2.82948</td>\n",
              "      <td>2.878061</td>\n",
              "      <td>2.788867</td>\n",
              "      <td>2.847274</td>\n",
              "      <td>2.914194</td>\n",
              "    </tr>\n",
              "    <tr>\n",
              "      <th>min</th>\n",
              "      <td>0.00000</td>\n",
              "      <td>0.000000</td>\n",
              "      <td>0.000000</td>\n",
              "      <td>0.000000</td>\n",
              "      <td>0.000000</td>\n",
              "    </tr>\n",
              "    <tr>\n",
              "      <th>25%</th>\n",
              "      <td>2.00000</td>\n",
              "      <td>2.750000</td>\n",
              "      <td>3.000000</td>\n",
              "      <td>2.000000</td>\n",
              "      <td>2.000000</td>\n",
              "    </tr>\n",
              "    <tr>\n",
              "      <th>50%</th>\n",
              "      <td>4.00000</td>\n",
              "      <td>5.000000</td>\n",
              "      <td>5.000000</td>\n",
              "      <td>5.000000</td>\n",
              "      <td>5.000000</td>\n",
              "    </tr>\n",
              "    <tr>\n",
              "      <th>75%</th>\n",
              "      <td>6.25000</td>\n",
              "      <td>8.000000</td>\n",
              "      <td>7.250000</td>\n",
              "      <td>7.000000</td>\n",
              "      <td>7.000000</td>\n",
              "    </tr>\n",
              "    <tr>\n",
              "      <th>max</th>\n",
              "      <td>9.00000</td>\n",
              "      <td>9.000000</td>\n",
              "      <td>9.000000</td>\n",
              "      <td>9.000000</td>\n",
              "      <td>9.000000</td>\n",
              "    </tr>\n",
              "  </tbody>\n",
              "</table>\n",
              "</div>"
            ],
            "text/plain": [
              "               0           1           2           3           4\n",
              "count  100.00000  100.000000  100.000000  100.000000  100.000000\n",
              "mean     4.21000    4.860000    5.000000    4.710000    4.820000\n",
              "std      2.82948    2.878061    2.788867    2.847274    2.914194\n",
              "min      0.00000    0.000000    0.000000    0.000000    0.000000\n",
              "25%      2.00000    2.750000    3.000000    2.000000    2.000000\n",
              "50%      4.00000    5.000000    5.000000    5.000000    5.000000\n",
              "75%      6.25000    8.000000    7.250000    7.000000    7.000000\n",
              "max      9.00000    9.000000    9.000000    9.000000    9.000000"
            ]
          },
          "metadata": {
            "tags": []
          },
          "execution_count": 64
        }
      ]
    },
    {
      "cell_type": "code",
      "metadata": {
        "id": "PsNRSi5W_HNw",
        "colab_type": "code",
        "colab": {
          "base_uri": "https://localhost:8080/",
          "height": 119
        },
        "outputId": "b1c57f91-97c4-4a69-a4a5-ed7fc1efe28c"
      },
      "source": [
        "# 2c)\n",
        "\n",
        "a.std()"
      ],
      "execution_count": 66,
      "outputs": [
        {
          "output_type": "execute_result",
          "data": {
            "text/plain": [
              "0    2.829480\n",
              "1    2.878061\n",
              "2    2.788867\n",
              "3    2.847274\n",
              "4    2.914194\n",
              "dtype: float64"
            ]
          },
          "metadata": {
            "tags": []
          },
          "execution_count": 66
        }
      ]
    },
    {
      "cell_type": "code",
      "metadata": {
        "id": "EUGeJPok_SAu",
        "colab_type": "code",
        "colab": {}
      },
      "source": [
        "# 2d)\n",
        "a.sample(frac=1) #reset_index()"
      ],
      "execution_count": 0,
      "outputs": []
    },
    {
      "cell_type": "code",
      "metadata": {
        "id": "iBZLVEiA_k2j",
        "colab_type": "code",
        "colab": {}
      },
      "source": [
        "# 2e)\n",
        "#a.iloc[0] # quita el index de la columna 0\n",
        "a.loc[0] \n",
        "a"
      ],
      "execution_count": 0,
      "outputs": []
    },
    {
      "cell_type": "code",
      "metadata": {
        "id": "dxmq0r8GAMxu",
        "colab_type": "code",
        "colab": {}
      },
      "source": [
        "a.loc[a[0]>5] # filas donde la primera columna es mayor a 5\n",
        "a.loc[a[0]>5, [1, 2]] # filas donde la primera columna es mayor a 5, pero trae la primera fila"
      ],
      "execution_count": 0,
      "outputs": []
    },
    {
      "cell_type": "code",
      "metadata": {
        "id": "U66_ckwsAzXv",
        "colab_type": "code",
        "colab": {}
      },
      "source": [
        ""
      ],
      "execution_count": 0,
      "outputs": []
    },
    {
      "cell_type": "markdown",
      "metadata": {
        "id": "gTAPa-My1rbm",
        "colab_type": "text"
      },
      "source": [
        "# **Matplotlib & Seaborn**\n",
        "\n",
        "Use the DataFrame df given below to perform the following Tasks: \n",
        "\n",
        "**3a)** Plot the values of all columns in df, using a simple line plot() \n",
        "\n",
        "**3b)** Plot the distribution of df, using a histogram plot \n",
        "\n",
        "**3c)** Plot the correlation of columns 'A' and 'B' in df, using a scatter plot \n",
        "\n",
        "**3d)** Create a figure with 3 subplots using plt.subplots() and plot the distributions of columns 'A' and 'B' and its correlation \n",
        "\n",
        "**3e)** Create a boxplot for column 'A' \n",
        "\n",
        "**3f)** Create a boxplot for all columns \n",
        "\n",
        "**3g)** Use seaborn's pairplot function to plot all distributions and the correlations between all columns \n",
        "\n",
        "**3h)** Use seaborn's heatmap function to plot the absolute values of the correlation matrix of df "
      ]
    },
    {
      "cell_type": "code",
      "metadata": {
        "id": "VDlb1P1s17Fm",
        "colab_type": "code",
        "colab": {}
      },
      "source": [
        "import matplotlib.pyplot as plt\n",
        "import seaborn as sns\n",
        "import pandas as pd\n",
        "import numpy as np\n",
        "\n",
        "df = pd.DataFrame(np.random.randn(100, 4), columns = list(\"ABCD\"))"
      ],
      "execution_count": 0,
      "outputs": []
    },
    {
      "cell_type": "code",
      "metadata": {
        "id": "9V8hOO5GBLJo",
        "colab_type": "code",
        "colab": {
          "base_uri": "https://localhost:8080/",
          "height": 286
        },
        "outputId": "82134f2b-a2a9-4b41-ec40-8008cceceabe"
      },
      "source": [
        "#plt.plot(df)\n",
        "plt.plot(df['A'])"
      ],
      "execution_count": 84,
      "outputs": [
        {
          "output_type": "execute_result",
          "data": {
            "text/plain": [
              "[<matplotlib.lines.Line2D at 0x7fe37f8476a0>]"
            ]
          },
          "metadata": {
            "tags": []
          },
          "execution_count": 84
        },
        {
          "output_type": "display_data",
          "data": {
            "image/png": "[encoded data removed]",
            "text/plain": [
              "<Figure size 432x288 with 1 Axes>"
            ]
          },
          "metadata": {
            "tags": []
          }
        }
      ]
    },
    {
      "cell_type": "code",
      "metadata": {
        "id": "6ZOHzQCuBi_7",
        "colab_type": "code",
        "colab": {
          "base_uri": "https://localhost:8080/",
          "height": 354
        },
        "outputId": "2332ce98-00ed-434e-d0a1-58c2c55f1c53"
      },
      "source": [
        "plt.hist(df['B'])"
      ],
      "execution_count": 87,
      "outputs": [
        {
          "output_type": "execute_result",
          "data": {
            "text/plain": [
              "(array([ 7.,  3., 10.,  8., 15., 18., 15., 15.,  6.,  3.]),\n",
              " array([-2.49680929, -1.98320138, -1.46959348, -0.95598557, -0.44237767,\n",
              "         0.07123024,  0.58483814,  1.09844604,  1.61205395,  2.12566185,\n",
              "         2.63926976]),\n",
              " <a list of 10 Patch objects>)"
            ]
          },
          "metadata": {
            "tags": []
          },
          "execution_count": 87
        },
        {
          "output_type": "display_data",
          "data": {
            "image/png": "[encoded data removed]",
            "text/plain": [
              "<Figure size 432x288 with 1 Axes>"
            ]
          },
          "metadata": {
            "tags": []
          }
        }
      ]
    },
    {
      "cell_type": "code",
      "metadata": {
        "id": "cpm8q9J9BwJq",
        "colab_type": "code",
        "colab": {
          "base_uri": "https://localhost:8080/",
          "height": 538
        },
        "outputId": "55287cfa-6ffb-4728-8709-3001d520406b"
      },
      "source": [
        "plt.scatter(df['A'], df['A'])\n",
        "plt.figure()\n",
        "plt.plot(df['A'])"
      ],
      "execution_count": 93,
      "outputs": [
        {
          "output_type": "execute_result",
          "data": {
            "text/plain": [
              "[<matplotlib.lines.Line2D at 0x7fe37f5b4ba8>]"
            ]
          },
          "metadata": {
            "tags": []
          },
          "execution_count": 93
        },
        {
          "output_type": "display_data",
          "data": {
            "image/png": "[encoded data removed]",
            "text/plain": [
              "<Figure size 432x288 with 1 Axes>"
            ]
          },
          "metadata": {
            "tags": []
          }
        },
        {
          "output_type": "display_data",
          "data": {
            "image/png": "[encoded data removed]",
            "text/plain": [
              "<Figure size 432x288 with 1 Axes>"
            ]
          },
          "metadata": {
            "tags": []
          }
        }
      ]
    },
    {
      "cell_type": "code",
      "metadata": {
        "id": "0T1LdrAxCMdv",
        "colab_type": "code",
        "colab": {
          "base_uri": "https://localhost:8080/",
          "height": 354
        },
        "outputId": "97bc8bb3-ce72-49ce-b034-7672ef20bd0b"
      },
      "source": [
        "fig, axs = plt.subplots(2)\n",
        "axs[0].plot(df)\n",
        "axs[1].hist(df['A'])"
      ],
      "execution_count": 98,
      "outputs": [
        {
          "output_type": "execute_result",
          "data": {
            "text/plain": [
              "(array([ 2.,  3., 12., 17., 15., 13., 14., 14.,  7.,  3.]),\n",
              " array([-2.29158429, -1.85721245, -1.4228406 , -0.98846876, -0.55409692,\n",
              "        -0.11972508,  0.31464676,  0.74901861,  1.18339045,  1.61776229,\n",
              "         2.05213413]),\n",
              " <a list of 10 Patch objects>)"
            ]
          },
          "metadata": {
            "tags": []
          },
          "execution_count": 98
        },
        {
          "output_type": "display_data",
          "data": {
            "image/png": "[encoded data removed]",
            "text/plain": [
              "<Figure size 432x288 with 2 Axes>"
            ]
          },
          "metadata": {
            "tags": []
          }
        }
      ]
    }
  ]
}